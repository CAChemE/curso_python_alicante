{
 "metadata": {
  "name": ""
 },
 "nbformat": 3,
 "nbformat_minor": 0,
 "worksheets": [
  {
   "cells": [
    {
     "cell_type": "heading",
     "level": 1,
     "metadata": {},
     "source": [
      "Python para cient\u00edficos e ingenieros"
     ]
    },
    {
     "cell_type": "markdown",
     "metadata": {},
     "source": [
      "* **Escuela Polit\u00e9cnica Superior de la Universidad de Alicante**\n",
      "* Juan Luis Cano <juanlu001@gmail.com> http://pybonacci.wordpress.com/\n",
      "* Febrero de 2014\n",
      "* V\u00eddeos en YouTube: http://www.youtube.com/playlist?list=PLGBbVX_WvN7bMwYe7wWV5TZt1a58jTggB"
     ]
    },
    {
     "cell_type": "heading",
     "level": 2,
     "metadata": {},
     "source": [
      "\u00cdndice"
     ]
    },
    {
     "cell_type": "markdown",
     "metadata": {},
     "source": [
      "* [Parte 1 - Introducci\u00f3n a Python e IPython](http://nbviewer.ipython.org/github/Pybonacci/curso_python_alicante/blob/master/01_intro-python-ipython.ipynb)\n",
      "* [Parte 2 - Arrays de NumPy](http://nbviewer.ipython.org/github/Pybonacci/curso_python_alicante/blob/master/02_arrays-numpy.ipynb)\n",
      "* [Parte 3 - Visualizaci\u00f3n con matplotlib](http://nbviewer.ipython.org/github/Pybonacci/curso_python_alicante/blob/master/03_visualizacion-matplotlib.ipynb)\n",
      "* [Parte 4a - Integraci\u00f3n y optimizaci\u00f3n con SciPy](http://nbviewer.ipython.org/github/Pybonacci/curso_python_alicante/blob/master/04a_scipy.ipynb)\n",
      "* [Parte 4b - Interpolaci\u00f3n y ajuste con SciPy](http://nbviewer.ipython.org/github/Pybonacci/curso_python_alicante/blob/master/04b_ajuste_interpolacion_scipy.ipynb)\n",
      "* [Parte 5 - Buenas pr\u00e1cticas, depuraci\u00f3n y testing](http://nbviewer.ipython.org/github/Pybonacci/curso_python_alicante/blob/master/05_buenas-practicas.ipynb)"
     ]
    }
   ],
   "metadata": {}
  }
 ]
}